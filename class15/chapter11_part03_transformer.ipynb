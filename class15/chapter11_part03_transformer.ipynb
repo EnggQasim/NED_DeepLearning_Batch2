{
  "cells": [
    {
      "cell_type": "markdown",
      "metadata": {
        "id": "t35QdvKAtcl1"
      },
      "source": [
        "This is a companion notebook for the book [Deep Learning with Python, Second Edition](https://www.manning.com/books/deep-learning-with-python-second-edition?a_aid=keras&a_bid=76564dff). For readability, it only contains runnable code blocks and section titles, and omits everything else in the book: text paragraphs, figures, and pseudocode.\n",
        "\n",
        "**If you want to be able to follow what's going on, I recommend reading the notebook side by side with your copy of the book.**\n",
        "\n",
        "This notebook was generated for TensorFlow 2.6."
      ]
    },
    {
      "cell_type": "markdown",
      "metadata": {
        "id": "QXU-dbZ8tcl8"
      },
      "source": [
        "## The Transformer architecture"
      ]
    },
    {
      "cell_type": "markdown",
      "metadata": {
        "id": "gK1iexDBtcl-"
      },
      "source": [
        "### Understanding self-attention"
      ]
    },
    {
      "cell_type": "markdown",
      "metadata": {
        "id": "RkWE6qS-tcl_"
      },
      "source": [
        "#### Generalized self-attention: the query-key-value model"
      ]
    },
    {
      "cell_type": "markdown",
      "metadata": {
        "id": "1K0eU67ktcmA"
      },
      "source": [
        "### Multi-head attention"
      ]
    },
    {
      "cell_type": "markdown",
      "metadata": {
        "id": "W1IBn9BdtcmB"
      },
      "source": [
        "### The Transformer encoder"
      ]
    },
    {
      "cell_type": "markdown",
      "metadata": {
        "id": "yGRPqX4jtcmC"
      },
      "source": [
        "**Getting the data**"
      ]
    },
    {
      "cell_type": "code",
      "execution_count": 1,
      "metadata": {
        "colab": {
          "base_uri": "https://localhost:8080/"
        },
        "id": "MZJz_tAFtcmC",
        "outputId": "8ceecb5e-83b6-4e4a-db84-6c529a54799c"
      },
      "outputs": [
        {
          "output_type": "stream",
          "name": "stdout",
          "text": [
            "  % Total    % Received % Xferd  Average Speed   Time    Time     Time  Current\n",
            "                                 Dload  Upload   Total   Spent    Left  Speed\n",
            "100 80.2M  100 80.2M    0     0  31.4M      0  0:00:02  0:00:02 --:--:-- 31.4M\n"
          ]
        }
      ],
      "source": [
        "!curl -O https://ai.stanford.edu/~amaas/data/sentiment/aclImdb_v1.tar.gz\n",
        "!tar -xf aclImdb_v1.tar.gz\n",
        "!rm -r aclImdb/train/unsup"
      ]
    },
    {
      "cell_type": "markdown",
      "metadata": {
        "id": "LwX8_eaTtcmF"
      },
      "source": [
        "**Preparing the data**"
      ]
    },
    {
      "cell_type": "code",
      "execution_count": 2,
      "metadata": {
        "colab": {
          "base_uri": "https://localhost:8080/"
        },
        "id": "o0GDaxPItcmG",
        "outputId": "c8beec90-a2b0-4b5c-c595-8861642231af"
      },
      "outputs": [
        {
          "output_type": "stream",
          "name": "stdout",
          "text": [
            "Found 20000 files belonging to 2 classes.\n",
            "Found 5000 files belonging to 2 classes.\n"
          ]
        },
        {
          "output_type": "stream",
          "name": "stderr",
          "text": [
            "WARNING:tensorflow:From /usr/local/lib/python3.8/dist-packages/tensorflow/python/autograph/pyct/static_analysis/liveness.py:83: Analyzer.lamba_check (from tensorflow.python.autograph.pyct.static_analysis.liveness) is deprecated and will be removed after 2023-09-23.\n",
            "Instructions for updating:\n",
            "Lambda fuctions will be no more assumed to be used in the statement where they are used, or at least in the same block. https://github.com/tensorflow/tensorflow/issues/56089\n"
          ]
        },
        {
          "output_type": "stream",
          "name": "stdout",
          "text": [
            "Found 25000 files belonging to 2 classes.\n"
          ]
        }
      ],
      "source": [
        "import os, pathlib, shutil, random\n",
        "from tensorflow import keras\n",
        "batch_size = 32\n",
        "base_dir = pathlib.Path(\"aclImdb\")\n",
        "val_dir = base_dir / \"val\"\n",
        "train_dir = base_dir / \"train\"\n",
        "for category in (\"neg\", \"pos\"):\n",
        "    os.makedirs(val_dir / category)\n",
        "    files = os.listdir(train_dir / category)\n",
        "    random.Random(1337).shuffle(files)\n",
        "    num_val_samples = int(0.2 * len(files))\n",
        "    val_files = files[-num_val_samples:]\n",
        "    for fname in val_files:\n",
        "        shutil.move(train_dir / category / fname,\n",
        "                    val_dir / category / fname)\n",
        "\n",
        "train_ds = keras.utils.text_dataset_from_directory(\n",
        "    \"aclImdb/train\", batch_size=batch_size\n",
        ")\n",
        "val_ds = keras.utils.text_dataset_from_directory(\n",
        "    \"aclImdb/val\", batch_size=batch_size\n",
        ")\n",
        "test_ds = keras.utils.text_dataset_from_directory(\n",
        "    \"aclImdb/test\", batch_size=batch_size\n",
        ")\n",
        "text_only_train_ds = train_ds.map(lambda x, y: x)"
      ]
    },
    {
      "cell_type": "markdown",
      "metadata": {
        "id": "jEyngr6RtcmI"
      },
      "source": [
        "**Vectorizing the data**"
      ]
    },
    {
      "cell_type": "code",
      "execution_count": 3,
      "metadata": {
        "id": "xRyzE0bAtcmI"
      },
      "outputs": [],
      "source": [
        "from tensorflow.keras import layers\n",
        "\n",
        "max_length = 600\n",
        "max_tokens = 20000\n",
        "text_vectorization = layers.TextVectorization(\n",
        "    max_tokens=max_tokens,\n",
        "    output_mode=\"int\",\n",
        "    output_sequence_length=max_length,\n",
        ")\n",
        "text_vectorization.adapt(text_only_train_ds)\n",
        "\n",
        "int_train_ds = train_ds.map(\n",
        "    lambda x, y: (text_vectorization(x), y),\n",
        "    num_parallel_calls=4)\n",
        "int_val_ds = val_ds.map(\n",
        "    lambda x, y: (text_vectorization(x), y),\n",
        "    num_parallel_calls=4)\n",
        "int_test_ds = test_ds.map(\n",
        "    lambda x, y: (text_vectorization(x), y),\n",
        "    num_parallel_calls=4)"
      ]
    },
    {
      "cell_type": "code",
      "source": [],
      "metadata": {
        "id": "PJsBWSAS87Wt"
      },
      "execution_count": null,
      "outputs": []
    },
    {
      "cell_type": "markdown",
      "metadata": {
        "id": "Sdb3m6YRtcmJ"
      },
      "source": [
        "**Transformer encoder implemented as a subclassed `Layer`**"
      ]
    },
    {
      "cell_type": "code",
      "execution_count": 4,
      "metadata": {
        "id": "w8SRqGIOtcmK"
      },
      "outputs": [],
      "source": [
        "import tensorflow as tf\n",
        "from tensorflow import keras\n",
        "from tensorflow.keras import layers\n",
        "\n",
        "class TransformerEncoder(layers.Layer):\n",
        "    def __init__(self, embed_dim, dense_dim, num_heads, **kwargs):\n",
        "        super().__init__(**kwargs)\n",
        "        self.embed_dim = embed_dim\n",
        "        self.dense_dim = dense_dim\n",
        "        self.num_heads = num_heads\n",
        "        self.attention = layers.MultiHeadAttention(\n",
        "            num_heads=num_heads, key_dim=embed_dim)\n",
        "        self.dense_proj = keras.Sequential(\n",
        "            [layers.Dense(dense_dim, activation=\"relu\"),\n",
        "             layers.Dense(embed_dim),]\n",
        "        )\n",
        "        self.layernorm_1 = layers.LayerNormalization()\n",
        "        self.layernorm_2 = layers.LayerNormalization()\n",
        "\n",
        "    def call(self, inputs, mask=None):\n",
        "        if mask is not None:\n",
        "            mask = mask[:, tf.newaxis, :]\n",
        "        attention_output = self.attention(\n",
        "            inputs, inputs, attention_mask=mask)\n",
        "        proj_input = self.layernorm_1(inputs + attention_output)\n",
        "        proj_output = self.dense_proj(proj_input)\n",
        "        return self.layernorm_2(proj_input + proj_output)\n",
        "\n",
        "    def get_config(self):\n",
        "        config = super().get_config()\n",
        "        config.update({\n",
        "            \"embed_dim\": self.embed_dim,\n",
        "            \"num_heads\": self.num_heads,\n",
        "            \"dense_dim\": self.dense_dim,\n",
        "        })\n",
        "        return config"
      ]
    },
    {
      "cell_type": "markdown",
      "metadata": {
        "id": "Jzss-tiQtcmL"
      },
      "source": [
        "**Using the Transformer encoder for text classification**"
      ]
    },
    {
      "cell_type": "code",
      "execution_count": 5,
      "metadata": {
        "colab": {
          "base_uri": "https://localhost:8080/"
        },
        "id": "H0nB1t5ntcmL",
        "outputId": "07e4154c-25ca-4ef3-d43c-164be4007172"
      },
      "outputs": [
        {
          "output_type": "stream",
          "name": "stdout",
          "text": [
            "Model: \"model\"\n",
            "_________________________________________________________________\n",
            " Layer (type)                Output Shape              Param #   \n",
            "=================================================================\n",
            " input_1 (InputLayer)        [(None, None)]            0         \n",
            "                                                                 \n",
            " embedding (Embedding)       (None, None, 256)         5120000   \n",
            "                                                                 \n",
            " transformer_encoder (Transf  (None, None, 256)        543776    \n",
            " ormerEncoder)                                                   \n",
            "                                                                 \n",
            " global_max_pooling1d (Globa  (None, 256)              0         \n",
            " lMaxPooling1D)                                                  \n",
            "                                                                 \n",
            " dropout (Dropout)           (None, 256)               0         \n",
            "                                                                 \n",
            " dense_2 (Dense)             (None, 1)                 257       \n",
            "                                                                 \n",
            "=================================================================\n",
            "Total params: 5,664,033\n",
            "Trainable params: 5,664,033\n",
            "Non-trainable params: 0\n",
            "_________________________________________________________________\n"
          ]
        }
      ],
      "source": [
        "vocab_size = 20000\n",
        "embed_dim = 256\n",
        "num_heads = 2\n",
        "dense_dim = 32\n",
        "\n",
        "inputs = keras.Input(shape=(None,), dtype=\"int64\")\n",
        "x = layers.Embedding(vocab_size, embed_dim)(inputs)\n",
        "x = TransformerEncoder(embed_dim, dense_dim, num_heads)(x)\n",
        "x = layers.GlobalMaxPooling1D()(x)\n",
        "x = layers.Dropout(0.5)(x)\n",
        "outputs = layers.Dense(1, activation=\"sigmoid\")(x)\n",
        "model = keras.Model(inputs, outputs)\n",
        "model.compile(optimizer=\"rmsprop\",\n",
        "              loss=\"binary_crossentropy\",\n",
        "              metrics=[\"accuracy\"])\n",
        "model.summary()"
      ]
    },
    {
      "cell_type": "markdown",
      "metadata": {
        "id": "A-t3bTlftcmM"
      },
      "source": [
        "**Training and evaluating the Transformer encoder based model**"
      ]
    },
    {
      "cell_type": "code",
      "execution_count": 6,
      "metadata": {
        "colab": {
          "base_uri": "https://localhost:8080/"
        },
        "id": "wjgt3fZOtcmM",
        "outputId": "d8171a34-33a4-40d2-93d3-bb45d53d4612"
      },
      "outputs": [
        {
          "output_type": "stream",
          "name": "stdout",
          "text": [
            "Epoch 1/20\n",
            "625/625 [==============================] - 93s 134ms/step - loss: 0.4976 - accuracy: 0.7672 - val_loss: 0.3559 - val_accuracy: 0.8442\n",
            "Epoch 2/20\n",
            "625/625 [==============================] - 64s 102ms/step - loss: 0.3383 - accuracy: 0.8541 - val_loss: 0.3154 - val_accuracy: 0.8622\n",
            "Epoch 3/20\n",
            "625/625 [==============================] - 53s 86ms/step - loss: 0.3017 - accuracy: 0.8722 - val_loss: 0.3072 - val_accuracy: 0.8706\n",
            "Epoch 4/20\n",
            "625/625 [==============================] - 48s 77ms/step - loss: 0.2693 - accuracy: 0.8899 - val_loss: 0.2935 - val_accuracy: 0.8758\n",
            "Epoch 5/20\n",
            "625/625 [==============================] - 48s 77ms/step - loss: 0.2370 - accuracy: 0.9052 - val_loss: 0.2917 - val_accuracy: 0.8778\n",
            "Epoch 6/20\n",
            "625/625 [==============================] - 46s 74ms/step - loss: 0.2042 - accuracy: 0.9205 - val_loss: 0.3010 - val_accuracy: 0.8740\n",
            "Epoch 7/20\n",
            "625/625 [==============================] - 46s 74ms/step - loss: 0.1716 - accuracy: 0.9337 - val_loss: 0.2999 - val_accuracy: 0.8782\n",
            "Epoch 8/20\n",
            "625/625 [==============================] - 47s 75ms/step - loss: 0.1442 - accuracy: 0.9463 - val_loss: 0.3195 - val_accuracy: 0.8792\n",
            "Epoch 9/20\n",
            "625/625 [==============================] - 45s 73ms/step - loss: 0.1187 - accuracy: 0.9570 - val_loss: 0.3479 - val_accuracy: 0.8730\n",
            "Epoch 10/20\n",
            "625/625 [==============================] - 44s 71ms/step - loss: 0.0959 - accuracy: 0.9651 - val_loss: 0.3517 - val_accuracy: 0.8746\n",
            "Epoch 11/20\n",
            "625/625 [==============================] - 43s 69ms/step - loss: 0.0719 - accuracy: 0.9747 - val_loss: 0.3828 - val_accuracy: 0.8748\n",
            "Epoch 12/20\n",
            "625/625 [==============================] - 46s 73ms/step - loss: 0.0560 - accuracy: 0.9817 - val_loss: 0.4305 - val_accuracy: 0.8700\n",
            "Epoch 13/20\n",
            "625/625 [==============================] - 45s 71ms/step - loss: 0.0441 - accuracy: 0.9844 - val_loss: 0.4743 - val_accuracy: 0.8644\n",
            "Epoch 14/20\n",
            "625/625 [==============================] - 45s 72ms/step - loss: 0.0358 - accuracy: 0.9873 - val_loss: 0.5070 - val_accuracy: 0.8686\n",
            "Epoch 15/20\n",
            "625/625 [==============================] - 44s 70ms/step - loss: 0.0306 - accuracy: 0.9897 - val_loss: 0.5179 - val_accuracy: 0.8704\n",
            "Epoch 16/20\n",
            "625/625 [==============================] - 45s 72ms/step - loss: 0.0229 - accuracy: 0.9918 - val_loss: 0.5936 - val_accuracy: 0.8628\n",
            "Epoch 17/20\n",
            "625/625 [==============================] - 44s 70ms/step - loss: 0.0222 - accuracy: 0.9924 - val_loss: 0.6294 - val_accuracy: 0.8656\n",
            "Epoch 18/20\n",
            "625/625 [==============================] - 42s 68ms/step - loss: 0.0184 - accuracy: 0.9930 - val_loss: 0.6703 - val_accuracy: 0.8668\n",
            "Epoch 19/20\n",
            "625/625 [==============================] - 43s 69ms/step - loss: 0.0194 - accuracy: 0.9937 - val_loss: 0.7334 - val_accuracy: 0.8672\n",
            "Epoch 20/20\n",
            "625/625 [==============================] - 43s 69ms/step - loss: 0.0144 - accuracy: 0.9952 - val_loss: 0.7192 - val_accuracy: 0.8662\n",
            "782/782 [==============================] - 21s 26ms/step - loss: 0.2992 - accuracy: 0.8729\n",
            "Test acc: 0.873\n"
          ]
        }
      ],
      "source": [
        "callbacks = [\n",
        "    keras.callbacks.ModelCheckpoint(\"transformer_encoder.keras\",\n",
        "                                    save_best_only=True)\n",
        "]\n",
        "model.fit(int_train_ds, validation_data=int_val_ds, epochs=20, callbacks=callbacks)\n",
        "model = keras.models.load_model(\n",
        "    \"transformer_encoder.keras\",\n",
        "    custom_objects={\"TransformerEncoder\": TransformerEncoder})\n",
        "print(f\"Test acc: {model.evaluate(int_test_ds)[1]:.3f}\")"
      ]
    },
    {
      "cell_type": "markdown",
      "metadata": {
        "id": "XafyayGdtcmN"
      },
      "source": [
        "#### Using positional encoding to re-inject order information"
      ]
    },
    {
      "cell_type": "markdown",
      "metadata": {
        "id": "i3sct7mwtcmO"
      },
      "source": [
        "**Implementing positional embedding as a subclassed layer**"
      ]
    },
    {
      "cell_type": "code",
      "execution_count": 7,
      "metadata": {
        "id": "0kt48gNbtcmO"
      },
      "outputs": [],
      "source": [
        "class PositionalEmbedding(layers.Layer):\n",
        "    def __init__(self, sequence_length, input_dim, output_dim, **kwargs):\n",
        "        super().__init__(**kwargs)\n",
        "        self.token_embeddings = layers.Embedding(\n",
        "            input_dim=input_dim, output_dim=output_dim)\n",
        "        self.position_embeddings = layers.Embedding(\n",
        "            input_dim=sequence_length, output_dim=output_dim)\n",
        "        self.sequence_length = sequence_length\n",
        "        self.input_dim = input_dim\n",
        "        self.output_dim = output_dim\n",
        "\n",
        "    def call(self, inputs):\n",
        "        length = tf.shape(inputs)[-1]\n",
        "        positions = tf.range(start=0, limit=length, delta=1)\n",
        "        embedded_tokens = self.token_embeddings(inputs)\n",
        "        embedded_positions = self.position_embeddings(positions)\n",
        "        return embedded_tokens + embedded_positions\n",
        "\n",
        "    def compute_mask(self, inputs, mask=None):\n",
        "        return tf.math.not_equal(inputs, 0)\n",
        "\n",
        "    def get_config(self):\n",
        "        config = super().get_config()\n",
        "        config.update({\n",
        "            \"output_dim\": self.output_dim,\n",
        "            \"sequence_length\": self.sequence_length,\n",
        "            \"input_dim\": self.input_dim,\n",
        "        })\n",
        "        return config"
      ]
    },
    {
      "cell_type": "markdown",
      "metadata": {
        "id": "JEOSg3vutcmP"
      },
      "source": [
        "#### Putting it all together: A text-classification Transformer"
      ]
    },
    {
      "cell_type": "markdown",
      "metadata": {
        "id": "iB6BoUC-tcmP"
      },
      "source": [
        "**Combining the Transformer encoder with positional embedding**"
      ]
    },
    {
      "cell_type": "code",
      "execution_count": 8,
      "metadata": {
        "colab": {
          "base_uri": "https://localhost:8080/"
        },
        "id": "Fy-iddN9tcmQ",
        "outputId": "ef56457c-8758-424e-899d-c1fe65b6f7b5"
      },
      "outputs": [
        {
          "output_type": "stream",
          "name": "stdout",
          "text": [
            "Model: \"model_1\"\n",
            "_________________________________________________________________\n",
            " Layer (type)                Output Shape              Param #   \n",
            "=================================================================\n",
            " input_2 (InputLayer)        [(None, None)]            0         \n",
            "                                                                 \n",
            " positional_embedding (Posit  (None, None, 256)        5273600   \n",
            " ionalEmbedding)                                                 \n",
            "                                                                 \n",
            " transformer_encoder_1 (Tran  (None, None, 256)        543776    \n",
            " sformerEncoder)                                                 \n",
            "                                                                 \n",
            " global_max_pooling1d_1 (Glo  (None, 256)              0         \n",
            " balMaxPooling1D)                                                \n",
            "                                                                 \n",
            " dropout_1 (Dropout)         (None, 256)               0         \n",
            "                                                                 \n",
            " dense_7 (Dense)             (None, 1)                 257       \n",
            "                                                                 \n",
            "=================================================================\n",
            "Total params: 5,817,633\n",
            "Trainable params: 5,817,633\n",
            "Non-trainable params: 0\n",
            "_________________________________________________________________\n",
            "Epoch 1/20\n",
            "625/625 [==============================] - 74s 113ms/step - loss: 0.5343 - accuracy: 0.7385 - val_loss: 0.3180 - val_accuracy: 0.8628\n",
            "Epoch 2/20\n",
            "625/625 [==============================] - 57s 91ms/step - loss: 0.2939 - accuracy: 0.8770 - val_loss: 0.2919 - val_accuracy: 0.8804\n",
            "Epoch 3/20\n",
            "625/625 [==============================] - 50s 79ms/step - loss: 0.2299 - accuracy: 0.9097 - val_loss: 0.3314 - val_accuracy: 0.8690\n",
            "Epoch 4/20\n",
            "625/625 [==============================] - 49s 79ms/step - loss: 0.1901 - accuracy: 0.9250 - val_loss: 0.2820 - val_accuracy: 0.8910\n",
            "Epoch 5/20\n",
            "625/625 [==============================] - 48s 77ms/step - loss: 0.1575 - accuracy: 0.9396 - val_loss: 0.2931 - val_accuracy: 0.8896\n",
            "Epoch 6/20\n",
            "625/625 [==============================] - 47s 75ms/step - loss: 0.1391 - accuracy: 0.9491 - val_loss: 0.3073 - val_accuracy: 0.8850\n",
            "Epoch 7/20\n",
            "625/625 [==============================] - 46s 73ms/step - loss: 0.1213 - accuracy: 0.9546 - val_loss: 0.3371 - val_accuracy: 0.8724\n",
            "Epoch 8/20\n",
            "625/625 [==============================] - 47s 74ms/step - loss: 0.1001 - accuracy: 0.9641 - val_loss: 0.3307 - val_accuracy: 0.8820\n",
            "Epoch 9/20\n",
            "625/625 [==============================] - 46s 74ms/step - loss: 0.0819 - accuracy: 0.9704 - val_loss: 0.4557 - val_accuracy: 0.8712\n",
            "Epoch 10/20\n",
            "625/625 [==============================] - 45s 72ms/step - loss: 0.0642 - accuracy: 0.9779 - val_loss: 0.5161 - val_accuracy: 0.8738\n",
            "Epoch 11/20\n",
            "625/625 [==============================] - 44s 70ms/step - loss: 0.0547 - accuracy: 0.9812 - val_loss: 0.4815 - val_accuracy: 0.8772\n",
            "Epoch 12/20\n",
            "625/625 [==============================] - 45s 71ms/step - loss: 0.0419 - accuracy: 0.9855 - val_loss: 0.6898 - val_accuracy: 0.8714\n",
            "Epoch 13/20\n",
            "625/625 [==============================] - 45s 72ms/step - loss: 0.0315 - accuracy: 0.9898 - val_loss: 0.7599 - val_accuracy: 0.8636\n",
            "Epoch 14/20\n",
            "625/625 [==============================] - 44s 71ms/step - loss: 0.0246 - accuracy: 0.9910 - val_loss: 0.7849 - val_accuracy: 0.8740\n",
            "Epoch 15/20\n",
            "625/625 [==============================] - 44s 70ms/step - loss: 0.0232 - accuracy: 0.9915 - val_loss: 0.7278 - val_accuracy: 0.8544\n",
            "Epoch 16/20\n",
            "625/625 [==============================] - 45s 71ms/step - loss: 0.0184 - accuracy: 0.9935 - val_loss: 0.8552 - val_accuracy: 0.8668\n",
            "Epoch 17/20\n",
            "625/625 [==============================] - 45s 72ms/step - loss: 0.0216 - accuracy: 0.9936 - val_loss: 0.9071 - val_accuracy: 0.8686\n",
            "Epoch 18/20\n",
            "625/625 [==============================] - 45s 72ms/step - loss: 0.0149 - accuracy: 0.9952 - val_loss: 1.0443 - val_accuracy: 0.8750\n",
            "Epoch 19/20\n",
            "625/625 [==============================] - 44s 70ms/step - loss: 0.0114 - accuracy: 0.9969 - val_loss: 1.1840 - val_accuracy: 0.8712\n",
            "Epoch 20/20\n",
            "625/625 [==============================] - 46s 73ms/step - loss: 0.0148 - accuracy: 0.9956 - val_loss: 1.0532 - val_accuracy: 0.8706\n",
            "782/782 [==============================] - 23s 29ms/step - loss: 0.2865 - accuracy: 0.8821\n",
            "Test acc: 0.882\n"
          ]
        }
      ],
      "source": [
        "vocab_size = 20000\n",
        "sequence_length = 600\n",
        "embed_dim = 256\n",
        "num_heads = 2\n",
        "dense_dim = 32\n",
        "\n",
        "inputs = keras.Input(shape=(None,), dtype=\"int64\")\n",
        "x = PositionalEmbedding(sequence_length, vocab_size, embed_dim)(inputs)\n",
        "x = TransformerEncoder(embed_dim, dense_dim, num_heads)(x)\n",
        "x = layers.GlobalMaxPooling1D()(x)\n",
        "x = layers.Dropout(0.5)(x)\n",
        "outputs = layers.Dense(1, activation=\"sigmoid\")(x)\n",
        "model = keras.Model(inputs, outputs)\n",
        "model.compile(optimizer=\"rmsprop\",\n",
        "              loss=\"binary_crossentropy\",\n",
        "              metrics=[\"accuracy\"])\n",
        "model.summary()\n",
        "\n",
        "callbacks = [\n",
        "    keras.callbacks.ModelCheckpoint(\"full_transformer_encoder.keras\",\n",
        "                                    save_best_only=True)\n",
        "]\n",
        "model.fit(int_train_ds, validation_data=int_val_ds, epochs=20, callbacks=callbacks)\n",
        "model = keras.models.load_model(\n",
        "    \"full_transformer_encoder.keras\",\n",
        "    custom_objects={\"TransformerEncoder\": TransformerEncoder,\n",
        "                    \"PositionalEmbedding\": PositionalEmbedding})\n",
        "print(f\"Test acc: {model.evaluate(int_test_ds)[1]:.3f}\")"
      ]
    },
    {
      "cell_type": "markdown",
      "metadata": {
        "id": "MDrvR-SYtcmQ"
      },
      "source": [
        "### When to use sequence models over bag-of-words models?"
      ]
    }
  ],
  "metadata": {
    "colab": {
      "provenance": []
    },
    "kernelspec": {
      "display_name": "Python 3",
      "language": "python",
      "name": "python3"
    },
    "language_info": {
      "codemirror_mode": {
        "name": "ipython",
        "version": 3
      },
      "file_extension": ".py",
      "mimetype": "text/x-python",
      "name": "python",
      "nbconvert_exporter": "python",
      "pygments_lexer": "ipython3",
      "version": "3.7.0"
    },
    "accelerator": "GPU",
    "gpuClass": "standard"
  },
  "nbformat": 4,
  "nbformat_minor": 0
}